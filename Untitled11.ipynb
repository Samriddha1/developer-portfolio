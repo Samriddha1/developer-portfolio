{
  "nbformat": 4,
  "nbformat_minor": 0,
  "metadata": {
    "colab": {
      "provenance": [],
      "authorship_tag": "ABX9TyO0oUgcjFezdQUWhT1GtJaj",
      "include_colab_link": true
    },
    "kernelspec": {
      "name": "python3",
      "display_name": "Python 3"
    },
    "language_info": {
      "name": "python"
    }
  },
  "cells": [
    {
      "cell_type": "markdown",
      "metadata": {
        "id": "view-in-github",
        "colab_type": "text"
      },
      "source": [
        "<a href=\"https://colab.research.google.com/github/Samriddha1/developer-portfolio/blob/main/Untitled11.ipynb\" target=\"_parent\"><img src=\"https://colab.research.google.com/assets/colab-badge.svg\" alt=\"Open In Colab\"/></a>"
      ]
    },
    {
      "cell_type": "code",
      "execution_count": 1,
      "metadata": {
        "id": "L8VmkRGb2WZj"
      },
      "outputs": [],
      "source": [
        "import pandas as pd\n",
        "from sklearn.preprocessing import StandardScaler\n",
        "from tensorflow.keras.models import Sequential\n",
        "from tensorflow.keras.layers import LSTM, Bidirectional, Conv1D, MaxPooling1D, Flatten, Dense,GRU,Attention\n",
        "import numpy as np\n",
        "from tensorflow.keras.layers import Dropout\n",
        "from sklearn.metrics import mean_squared_error, mean_absolute_error, r2_score\n",
        "\n",
        "\n"
      ]
    },
    {
      "cell_type": "code",
      "source": [
        "data = pd.read_csv(\"/content/Processed_data.csv\", index_col=None)"
      ],
      "metadata": {
        "id": "ng60FUQh5OO-"
      },
      "execution_count": 3,
      "outputs": []
    },
    {
      "cell_type": "code",
      "source": [
        "features = [\"WS10M\", \"PS\", \"WD10M\", \"CLOUD_AMT\", \"PRECTOTCORR\", \"YEAR\", \"month\"]"
      ],
      "metadata": {
        "id": "JkPr0J1A5T_k"
      },
      "execution_count": 4,
      "outputs": []
    },
    {
      "cell_type": "code",
      "source": [
        "target = \"ALLSKY_KT\""
      ],
      "metadata": {
        "id": "5rx1Nt4j5bDf"
      },
      "execution_count": 5,
      "outputs": []
    },
    {
      "cell_type": "code",
      "source": [
        "features = [\"WS10M\", \"PS\", \"WD10M\", \"CLOUD_AMT\", \"PRECTOTCORR\", \"YEAR\", \"month\"]\n",
        "target = \"ALLSKY_KT\"\n",
        "data = data[features + [target]]"
      ],
      "metadata": {
        "id": "9B-k4s2w5f9_"
      },
      "execution_count": 6,
      "outputs": []
    },
    {
      "cell_type": "code",
      "source": [
        "data"
      ],
      "metadata": {
        "colab": {
          "base_uri": "https://localhost:8080/",
          "height": 424
        },
        "id": "oaWdY44aDnX6",
        "outputId": "7fc00d49-b36c-4b6f-91e4-438d7762b401"
      },
      "execution_count": 7,
      "outputs": [
        {
          "output_type": "execute_result",
          "data": {
            "text/plain": [
              "     WS10M      PS   WD10M  CLOUD_AMT  PRECTOTCORR  YEAR  month  ALLSKY_KT\n",
              "0     4.40  101.05   12.81      39.12         0.00  1984      1       0.64\n",
              "1     5.02  101.01   10.75      47.82         0.00  1984      2       0.57\n",
              "2     4.65  100.71  273.88      43.46         0.00  1984      3       0.66\n",
              "3     5.52  100.27  263.25      25.86         0.00  1984      4       0.66\n",
              "4     7.79   99.98  249.06      31.87         0.00  1984      5       0.66\n",
              "..     ...     ...     ...        ...          ...   ...    ...        ...\n",
              "502   4.67  100.18  255.31      44.30         4.69  2022      9       0.59\n",
              "503   3.07  100.67  287.94      13.84         0.00  2022     10       0.66\n",
              "504   2.56  100.98  336.94       6.89         0.01  2022     11       0.66\n",
              "505   3.48  101.04   26.50      13.92         0.00  2022     12       0.65\n",
              "506   5.06  100.39  258.00      31.48         3.74  2022     13       0.59\n",
              "\n",
              "[507 rows x 8 columns]"
            ],
            "text/html": [
              "\n",
              "  <div id=\"df-357e10ab-ec4e-4d98-a67a-effaa9c6c7da\" class=\"colab-df-container\">\n",
              "    <div>\n",
              "<style scoped>\n",
              "    .dataframe tbody tr th:only-of-type {\n",
              "        vertical-align: middle;\n",
              "    }\n",
              "\n",
              "    .dataframe tbody tr th {\n",
              "        vertical-align: top;\n",
              "    }\n",
              "\n",
              "    .dataframe thead th {\n",
              "        text-align: right;\n",
              "    }\n",
              "</style>\n",
              "<table border=\"1\" class=\"dataframe\">\n",
              "  <thead>\n",
              "    <tr style=\"text-align: right;\">\n",
              "      <th></th>\n",
              "      <th>WS10M</th>\n",
              "      <th>PS</th>\n",
              "      <th>WD10M</th>\n",
              "      <th>CLOUD_AMT</th>\n",
              "      <th>PRECTOTCORR</th>\n",
              "      <th>YEAR</th>\n",
              "      <th>month</th>\n",
              "      <th>ALLSKY_KT</th>\n",
              "    </tr>\n",
              "  </thead>\n",
              "  <tbody>\n",
              "    <tr>\n",
              "      <th>0</th>\n",
              "      <td>4.40</td>\n",
              "      <td>101.05</td>\n",
              "      <td>12.81</td>\n",
              "      <td>39.12</td>\n",
              "      <td>0.00</td>\n",
              "      <td>1984</td>\n",
              "      <td>1</td>\n",
              "      <td>0.64</td>\n",
              "    </tr>\n",
              "    <tr>\n",
              "      <th>1</th>\n",
              "      <td>5.02</td>\n",
              "      <td>101.01</td>\n",
              "      <td>10.75</td>\n",
              "      <td>47.82</td>\n",
              "      <td>0.00</td>\n",
              "      <td>1984</td>\n",
              "      <td>2</td>\n",
              "      <td>0.57</td>\n",
              "    </tr>\n",
              "    <tr>\n",
              "      <th>2</th>\n",
              "      <td>4.65</td>\n",
              "      <td>100.71</td>\n",
              "      <td>273.88</td>\n",
              "      <td>43.46</td>\n",
              "      <td>0.00</td>\n",
              "      <td>1984</td>\n",
              "      <td>3</td>\n",
              "      <td>0.66</td>\n",
              "    </tr>\n",
              "    <tr>\n",
              "      <th>3</th>\n",
              "      <td>5.52</td>\n",
              "      <td>100.27</td>\n",
              "      <td>263.25</td>\n",
              "      <td>25.86</td>\n",
              "      <td>0.00</td>\n",
              "      <td>1984</td>\n",
              "      <td>4</td>\n",
              "      <td>0.66</td>\n",
              "    </tr>\n",
              "    <tr>\n",
              "      <th>4</th>\n",
              "      <td>7.79</td>\n",
              "      <td>99.98</td>\n",
              "      <td>249.06</td>\n",
              "      <td>31.87</td>\n",
              "      <td>0.00</td>\n",
              "      <td>1984</td>\n",
              "      <td>5</td>\n",
              "      <td>0.66</td>\n",
              "    </tr>\n",
              "    <tr>\n",
              "      <th>...</th>\n",
              "      <td>...</td>\n",
              "      <td>...</td>\n",
              "      <td>...</td>\n",
              "      <td>...</td>\n",
              "      <td>...</td>\n",
              "      <td>...</td>\n",
              "      <td>...</td>\n",
              "      <td>...</td>\n",
              "    </tr>\n",
              "    <tr>\n",
              "      <th>502</th>\n",
              "      <td>4.67</td>\n",
              "      <td>100.18</td>\n",
              "      <td>255.31</td>\n",
              "      <td>44.30</td>\n",
              "      <td>4.69</td>\n",
              "      <td>2022</td>\n",
              "      <td>9</td>\n",
              "      <td>0.59</td>\n",
              "    </tr>\n",
              "    <tr>\n",
              "      <th>503</th>\n",
              "      <td>3.07</td>\n",
              "      <td>100.67</td>\n",
              "      <td>287.94</td>\n",
              "      <td>13.84</td>\n",
              "      <td>0.00</td>\n",
              "      <td>2022</td>\n",
              "      <td>10</td>\n",
              "      <td>0.66</td>\n",
              "    </tr>\n",
              "    <tr>\n",
              "      <th>504</th>\n",
              "      <td>2.56</td>\n",
              "      <td>100.98</td>\n",
              "      <td>336.94</td>\n",
              "      <td>6.89</td>\n",
              "      <td>0.01</td>\n",
              "      <td>2022</td>\n",
              "      <td>11</td>\n",
              "      <td>0.66</td>\n",
              "    </tr>\n",
              "    <tr>\n",
              "      <th>505</th>\n",
              "      <td>3.48</td>\n",
              "      <td>101.04</td>\n",
              "      <td>26.50</td>\n",
              "      <td>13.92</td>\n",
              "      <td>0.00</td>\n",
              "      <td>2022</td>\n",
              "      <td>12</td>\n",
              "      <td>0.65</td>\n",
              "    </tr>\n",
              "    <tr>\n",
              "      <th>506</th>\n",
              "      <td>5.06</td>\n",
              "      <td>100.39</td>\n",
              "      <td>258.00</td>\n",
              "      <td>31.48</td>\n",
              "      <td>3.74</td>\n",
              "      <td>2022</td>\n",
              "      <td>13</td>\n",
              "      <td>0.59</td>\n",
              "    </tr>\n",
              "  </tbody>\n",
              "</table>\n",
              "<p>507 rows × 8 columns</p>\n",
              "</div>\n",
              "    <div class=\"colab-df-buttons\">\n",
              "\n",
              "  <div class=\"colab-df-container\">\n",
              "    <button class=\"colab-df-convert\" onclick=\"convertToInteractive('df-357e10ab-ec4e-4d98-a67a-effaa9c6c7da')\"\n",
              "            title=\"Convert this dataframe to an interactive table.\"\n",
              "            style=\"display:none;\">\n",
              "\n",
              "  <svg xmlns=\"http://www.w3.org/2000/svg\" height=\"24px\" viewBox=\"0 -960 960 960\">\n",
              "    <path d=\"M120-120v-720h720v720H120Zm60-500h600v-160H180v160Zm220 220h160v-160H400v160Zm0 220h160v-160H400v160ZM180-400h160v-160H180v160Zm440 0h160v-160H620v160ZM180-180h160v-160H180v160Zm440 0h160v-160H620v160Z\"/>\n",
              "  </svg>\n",
              "    </button>\n",
              "\n",
              "  <style>\n",
              "    .colab-df-container {\n",
              "      display:flex;\n",
              "      gap: 12px;\n",
              "    }\n",
              "\n",
              "    .colab-df-convert {\n",
              "      background-color: #E8F0FE;\n",
              "      border: none;\n",
              "      border-radius: 50%;\n",
              "      cursor: pointer;\n",
              "      display: none;\n",
              "      fill: #1967D2;\n",
              "      height: 32px;\n",
              "      padding: 0 0 0 0;\n",
              "      width: 32px;\n",
              "    }\n",
              "\n",
              "    .colab-df-convert:hover {\n",
              "      background-color: #E2EBFA;\n",
              "      box-shadow: 0px 1px 2px rgba(60, 64, 67, 0.3), 0px 1px 3px 1px rgba(60, 64, 67, 0.15);\n",
              "      fill: #174EA6;\n",
              "    }\n",
              "\n",
              "    .colab-df-buttons div {\n",
              "      margin-bottom: 4px;\n",
              "    }\n",
              "\n",
              "    [theme=dark] .colab-df-convert {\n",
              "      background-color: #3B4455;\n",
              "      fill: #D2E3FC;\n",
              "    }\n",
              "\n",
              "    [theme=dark] .colab-df-convert:hover {\n",
              "      background-color: #434B5C;\n",
              "      box-shadow: 0px 1px 3px 1px rgba(0, 0, 0, 0.15);\n",
              "      filter: drop-shadow(0px 1px 2px rgba(0, 0, 0, 0.3));\n",
              "      fill: #FFFFFF;\n",
              "    }\n",
              "  </style>\n",
              "\n",
              "    <script>\n",
              "      const buttonEl =\n",
              "        document.querySelector('#df-357e10ab-ec4e-4d98-a67a-effaa9c6c7da button.colab-df-convert');\n",
              "      buttonEl.style.display =\n",
              "        google.colab.kernel.accessAllowed ? 'block' : 'none';\n",
              "\n",
              "      async function convertToInteractive(key) {\n",
              "        const element = document.querySelector('#df-357e10ab-ec4e-4d98-a67a-effaa9c6c7da');\n",
              "        const dataTable =\n",
              "          await google.colab.kernel.invokeFunction('convertToInteractive',\n",
              "                                                    [key], {});\n",
              "        if (!dataTable) return;\n",
              "\n",
              "        const docLinkHtml = 'Like what you see? Visit the ' +\n",
              "          '<a target=\"_blank\" href=https://colab.research.google.com/notebooks/data_table.ipynb>data table notebook</a>'\n",
              "          + ' to learn more about interactive tables.';\n",
              "        element.innerHTML = '';\n",
              "        dataTable['output_type'] = 'display_data';\n",
              "        await google.colab.output.renderOutput(dataTable, element);\n",
              "        const docLink = document.createElement('div');\n",
              "        docLink.innerHTML = docLinkHtml;\n",
              "        element.appendChild(docLink);\n",
              "      }\n",
              "    </script>\n",
              "  </div>\n",
              "\n",
              "\n",
              "<div id=\"df-3674a6f1-99e6-4be0-9ebd-294c096ba2d4\">\n",
              "  <button class=\"colab-df-quickchart\" onclick=\"quickchart('df-3674a6f1-99e6-4be0-9ebd-294c096ba2d4')\"\n",
              "            title=\"Suggest charts\"\n",
              "            style=\"display:none;\">\n",
              "\n",
              "<svg xmlns=\"http://www.w3.org/2000/svg\" height=\"24px\"viewBox=\"0 0 24 24\"\n",
              "     width=\"24px\">\n",
              "    <g>\n",
              "        <path d=\"M19 3H5c-1.1 0-2 .9-2 2v14c0 1.1.9 2 2 2h14c1.1 0 2-.9 2-2V5c0-1.1-.9-2-2-2zM9 17H7v-7h2v7zm4 0h-2V7h2v10zm4 0h-2v-4h2v4z\"/>\n",
              "    </g>\n",
              "</svg>\n",
              "  </button>\n",
              "\n",
              "<style>\n",
              "  .colab-df-quickchart {\n",
              "      --bg-color: #E8F0FE;\n",
              "      --fill-color: #1967D2;\n",
              "      --hover-bg-color: #E2EBFA;\n",
              "      --hover-fill-color: #174EA6;\n",
              "      --disabled-fill-color: #AAA;\n",
              "      --disabled-bg-color: #DDD;\n",
              "  }\n",
              "\n",
              "  [theme=dark] .colab-df-quickchart {\n",
              "      --bg-color: #3B4455;\n",
              "      --fill-color: #D2E3FC;\n",
              "      --hover-bg-color: #434B5C;\n",
              "      --hover-fill-color: #FFFFFF;\n",
              "      --disabled-bg-color: #3B4455;\n",
              "      --disabled-fill-color: #666;\n",
              "  }\n",
              "\n",
              "  .colab-df-quickchart {\n",
              "    background-color: var(--bg-color);\n",
              "    border: none;\n",
              "    border-radius: 50%;\n",
              "    cursor: pointer;\n",
              "    display: none;\n",
              "    fill: var(--fill-color);\n",
              "    height: 32px;\n",
              "    padding: 0;\n",
              "    width: 32px;\n",
              "  }\n",
              "\n",
              "  .colab-df-quickchart:hover {\n",
              "    background-color: var(--hover-bg-color);\n",
              "    box-shadow: 0 1px 2px rgba(60, 64, 67, 0.3), 0 1px 3px 1px rgba(60, 64, 67, 0.15);\n",
              "    fill: var(--button-hover-fill-color);\n",
              "  }\n",
              "\n",
              "  .colab-df-quickchart-complete:disabled,\n",
              "  .colab-df-quickchart-complete:disabled:hover {\n",
              "    background-color: var(--disabled-bg-color);\n",
              "    fill: var(--disabled-fill-color);\n",
              "    box-shadow: none;\n",
              "  }\n",
              "\n",
              "  .colab-df-spinner {\n",
              "    border: 2px solid var(--fill-color);\n",
              "    border-color: transparent;\n",
              "    border-bottom-color: var(--fill-color);\n",
              "    animation:\n",
              "      spin 1s steps(1) infinite;\n",
              "  }\n",
              "\n",
              "  @keyframes spin {\n",
              "    0% {\n",
              "      border-color: transparent;\n",
              "      border-bottom-color: var(--fill-color);\n",
              "      border-left-color: var(--fill-color);\n",
              "    }\n",
              "    20% {\n",
              "      border-color: transparent;\n",
              "      border-left-color: var(--fill-color);\n",
              "      border-top-color: var(--fill-color);\n",
              "    }\n",
              "    30% {\n",
              "      border-color: transparent;\n",
              "      border-left-color: var(--fill-color);\n",
              "      border-top-color: var(--fill-color);\n",
              "      border-right-color: var(--fill-color);\n",
              "    }\n",
              "    40% {\n",
              "      border-color: transparent;\n",
              "      border-right-color: var(--fill-color);\n",
              "      border-top-color: var(--fill-color);\n",
              "    }\n",
              "    60% {\n",
              "      border-color: transparent;\n",
              "      border-right-color: var(--fill-color);\n",
              "    }\n",
              "    80% {\n",
              "      border-color: transparent;\n",
              "      border-right-color: var(--fill-color);\n",
              "      border-bottom-color: var(--fill-color);\n",
              "    }\n",
              "    90% {\n",
              "      border-color: transparent;\n",
              "      border-bottom-color: var(--fill-color);\n",
              "    }\n",
              "  }\n",
              "</style>\n",
              "\n",
              "  <script>\n",
              "    async function quickchart(key) {\n",
              "      const quickchartButtonEl =\n",
              "        document.querySelector('#' + key + ' button');\n",
              "      quickchartButtonEl.disabled = true;  // To prevent multiple clicks.\n",
              "      quickchartButtonEl.classList.add('colab-df-spinner');\n",
              "      try {\n",
              "        const charts = await google.colab.kernel.invokeFunction(\n",
              "            'suggestCharts', [key], {});\n",
              "      } catch (error) {\n",
              "        console.error('Error during call to suggestCharts:', error);\n",
              "      }\n",
              "      quickchartButtonEl.classList.remove('colab-df-spinner');\n",
              "      quickchartButtonEl.classList.add('colab-df-quickchart-complete');\n",
              "    }\n",
              "    (() => {\n",
              "      let quickchartButtonEl =\n",
              "        document.querySelector('#df-3674a6f1-99e6-4be0-9ebd-294c096ba2d4 button');\n",
              "      quickchartButtonEl.style.display =\n",
              "        google.colab.kernel.accessAllowed ? 'block' : 'none';\n",
              "    })();\n",
              "  </script>\n",
              "</div>\n",
              "\n",
              "  <div id=\"id_19315ea9-7a6b-4cd3-8074-52cd421631d0\">\n",
              "    <style>\n",
              "      .colab-df-generate {\n",
              "        background-color: #E8F0FE;\n",
              "        border: none;\n",
              "        border-radius: 50%;\n",
              "        cursor: pointer;\n",
              "        display: none;\n",
              "        fill: #1967D2;\n",
              "        height: 32px;\n",
              "        padding: 0 0 0 0;\n",
              "        width: 32px;\n",
              "      }\n",
              "\n",
              "      .colab-df-generate:hover {\n",
              "        background-color: #E2EBFA;\n",
              "        box-shadow: 0px 1px 2px rgba(60, 64, 67, 0.3), 0px 1px 3px 1px rgba(60, 64, 67, 0.15);\n",
              "        fill: #174EA6;\n",
              "      }\n",
              "\n",
              "      [theme=dark] .colab-df-generate {\n",
              "        background-color: #3B4455;\n",
              "        fill: #D2E3FC;\n",
              "      }\n",
              "\n",
              "      [theme=dark] .colab-df-generate:hover {\n",
              "        background-color: #434B5C;\n",
              "        box-shadow: 0px 1px 3px 1px rgba(0, 0, 0, 0.15);\n",
              "        filter: drop-shadow(0px 1px 2px rgba(0, 0, 0, 0.3));\n",
              "        fill: #FFFFFF;\n",
              "      }\n",
              "    </style>\n",
              "    <button class=\"colab-df-generate\" onclick=\"generateWithVariable('data')\"\n",
              "            title=\"Generate code using this dataframe.\"\n",
              "            style=\"display:none;\">\n",
              "\n",
              "  <svg xmlns=\"http://www.w3.org/2000/svg\" height=\"24px\"viewBox=\"0 0 24 24\"\n",
              "       width=\"24px\">\n",
              "    <path d=\"M7,19H8.4L18.45,9,17,7.55,7,17.6ZM5,21V16.75L18.45,3.32a2,2,0,0,1,2.83,0l1.4,1.43a1.91,1.91,0,0,1,.58,1.4,1.91,1.91,0,0,1-.58,1.4L9.25,21ZM18.45,9,17,7.55Zm-12,3A5.31,5.31,0,0,0,4.9,8.1,5.31,5.31,0,0,0,1,6.5,5.31,5.31,0,0,0,4.9,4.9,5.31,5.31,0,0,0,6.5,1,5.31,5.31,0,0,0,8.1,4.9,5.31,5.31,0,0,0,12,6.5,5.46,5.46,0,0,0,6.5,12Z\"/>\n",
              "  </svg>\n",
              "    </button>\n",
              "    <script>\n",
              "      (() => {\n",
              "      const buttonEl =\n",
              "        document.querySelector('#id_19315ea9-7a6b-4cd3-8074-52cd421631d0 button.colab-df-generate');\n",
              "      buttonEl.style.display =\n",
              "        google.colab.kernel.accessAllowed ? 'block' : 'none';\n",
              "\n",
              "      buttonEl.onclick = () => {\n",
              "        google.colab.notebook.generateWithVariable('data');\n",
              "      }\n",
              "      })();\n",
              "    </script>\n",
              "  </div>\n",
              "\n",
              "    </div>\n",
              "  </div>\n"
            ],
            "application/vnd.google.colaboratory.intrinsic+json": {
              "type": "dataframe",
              "variable_name": "data",
              "summary": "{\n  \"name\": \"data\",\n  \"rows\": 507,\n  \"fields\": [\n    {\n      \"column\": \"WS10M\",\n      \"properties\": {\n        \"dtype\": \"number\",\n        \"std\": 1.520009793173545,\n        \"min\": 2.56,\n        \"max\": 9.35,\n        \"num_unique_values\": 318,\n        \"samples\": [\n          4.8,\n          4.14,\n          4.7\n        ],\n        \"semantic_type\": \"\",\n        \"description\": \"\"\n      }\n    },\n    {\n      \"column\": \"PS\",\n      \"properties\": {\n        \"dtype\": \"number\",\n        \"std\": 0.5420446335097623,\n        \"min\": 99.37,\n        \"max\": 101.33,\n        \"num_unique_values\": 172,\n        \"samples\": [\n          100.4,\n          101.24,\n          99.87\n        ],\n        \"semantic_type\": \"\",\n        \"description\": \"\"\n      }\n    },\n    {\n      \"column\": \"WD10M\",\n      \"properties\": {\n        \"dtype\": \"number\",\n        \"std\": 98.60434092745443,\n        \"min\": 0.31,\n        \"max\": 359.75,\n        \"num_unique_values\": 446,\n        \"samples\": [\n          265.0,\n          242.19,\n          234.0\n        ],\n        \"semantic_type\": \"\",\n        \"description\": \"\"\n      }\n    },\n    {\n      \"column\": \"CLOUD_AMT\",\n      \"properties\": {\n        \"dtype\": \"number\",\n        \"std\": 20.11973027024988,\n        \"min\": 6.59,\n        \"max\": 86.43,\n        \"num_unique_values\": 481,\n        \"samples\": [\n          39.99,\n          56.95,\n          66.55\n        ],\n        \"semantic_type\": \"\",\n        \"description\": \"\"\n      }\n    },\n    {\n      \"column\": \"PRECTOTCORR\",\n      \"properties\": {\n        \"dtype\": \"number\",\n        \"std\": 2.441601043081607,\n        \"min\": 0.0,\n        \"max\": 22.42,\n        \"num_unique_values\": 21,\n        \"samples\": [\n          0.0,\n          22.42,\n          0.36\n        ],\n        \"semantic_type\": \"\",\n        \"description\": \"\"\n      }\n    },\n    {\n      \"column\": \"YEAR\",\n      \"properties\": {\n        \"dtype\": \"number\",\n        \"std\": 11,\n        \"min\": 1984,\n        \"max\": 2022,\n        \"num_unique_values\": 39,\n        \"samples\": [\n          2017,\n          2020,\n          1988\n        ],\n        \"semantic_type\": \"\",\n        \"description\": \"\"\n      }\n    },\n    {\n      \"column\": \"month\",\n      \"properties\": {\n        \"dtype\": \"number\",\n        \"std\": 3,\n        \"min\": 1,\n        \"max\": 13,\n        \"num_unique_values\": 13,\n        \"samples\": [\n          12,\n          10,\n          1\n        ],\n        \"semantic_type\": \"\",\n        \"description\": \"\"\n      }\n    },\n    {\n      \"column\": \"ALLSKY_KT\",\n      \"properties\": {\n        \"dtype\": \"number\",\n        \"std\": 0.07299081728954585,\n        \"min\": 0.36,\n        \"max\": 0.7,\n        \"num_unique_values\": 33,\n        \"samples\": [\n          0.44,\n          0.48,\n          0.43\n        ],\n        \"semantic_type\": \"\",\n        \"description\": \"\"\n      }\n    }\n  ]\n}"
            }
          },
          "metadata": {},
          "execution_count": 7
        }
      ]
    },
    {
      "cell_type": "code",
      "source": [
        "if pd.api.types.is_categorical_dtype(data[\"YEAR\"]) or pd.api.types.is_categorical_dtype(data[\"month\"]):\n",
        "    from sklearn.preprocessing import OneHotEncoder\n",
        "    encoder = OneHotEncoder(sparse=False)\n",
        "    year_month_encoded = encoder.fit_transform(data[[\"YEAR\", \"month\"]])\n",
        "    data = pd.concat([data.drop([\"YEAR\", \"month\"], axis=1), pd.DataFrame(year_month_encoded, columns=[\"YEAR\", \"month\"])], axis=1)\n"
      ],
      "metadata": {
        "id": "Jg7Mx7pg5tBc"
      },
      "execution_count": 8,
      "outputs": []
    },
    {
      "cell_type": "code",
      "source": [
        "from sklearn.model_selection import train_test_split\n",
        "X_train, X_test, y_train, y_test = train_test_split(data[features], data[target], test_size=0.2, random_state=42)\n"
      ],
      "metadata": {
        "id": "MYcMLzWu5xCy"
      },
      "execution_count": 9,
      "outputs": []
    },
    {
      "cell_type": "code",
      "source": [
        "scaler = StandardScaler()\n",
        "X_train_scaled = scaler.fit_transform(X_train)\n",
        "X_test_scaled = scaler.transform(X_test)\n"
      ],
      "metadata": {
        "id": "V4MikxZU53AR"
      },
      "execution_count": 10,
      "outputs": []
    },
    {
      "cell_type": "code",
      "source": [
        "timesteps = 1\n",
        "X_train_reshaped = X_train_scaled.reshape(-1, timesteps, len(features))\n",
        "X_test_reshaped = X_test_scaled.reshape(-1, timesteps, len(features))\n"
      ],
      "metadata": {
        "id": "FNg86F7I6FKT"
      },
      "execution_count": 11,
      "outputs": []
    },
    {
      "cell_type": "code",
      "source": [
        "padding_size = (timesteps - 1) // 2\n",
        "X_train_padded = np.pad(X_train_reshaped, pad_width=((0, 0), (padding_size, padding_size), (0, 0)), mode='constant')\n",
        "X_test_padded = np.pad(X_test_reshaped, pad_width=((0, 0), (padding_size, padding_size), (0, 0)), mode='constant')\n"
      ],
      "metadata": {
        "id": "ZYkUkCMO2ipZ"
      },
      "execution_count": 12,
      "outputs": []
    },
    {
      "cell_type": "markdown",
      "source": [],
      "metadata": {
        "id": "U_5KWkKBYFty"
      }
    },
    {
      "cell_type": "code",
      "source": [
        "\n",
        "from tensorflow.keras.layers import GRU, LSTM, Bidirectional, Dropout, Dense, Attention\n",
        "\n",
        "from tensorflow import keras\n",
        "\n",
        "\n",
        "from tensorflow.keras.layers import Lambda\n",
        "\n",
        "model = Sequential()\n",
        "\n",
        "model.add(GRU(units=32, return_sequences=True, input_shape=(timesteps, len(features))))\n",
        "model.add(LSTM(units=64, return_sequences=True))\n",
        "model.add(Bidirectional(LSTM(32, return_sequences=True)))\n",
        "model.add(Dropout(rate=0.5))\n",
        "\n",
        "attention_output = Lambda(lambda x: Attention()([x, x]))(model.layers[-1].output)\n",
        "\n",
        "model.add(Dense(1, activation=\"sigmoid\"))"
      ],
      "metadata": {
        "id": "9gfvXGDQFYEE"
      },
      "execution_count": 13,
      "outputs": []
    },
    {
      "cell_type": "code",
      "source": [
        "model.compile(loss=\"mse\", optimizer=\"adam\")\n"
      ],
      "metadata": {
        "id": "i1vtrgCB8Ut9"
      },
      "execution_count": 14,
      "outputs": []
    },
    {
      "cell_type": "code",
      "source": [
        "from tensorflow.keras.callbacks import EarlyStopping\n",
        "early_stopping = EarlyStopping(monitor='val_loss', patience=5)\n",
        "history = model.fit(X_train_reshaped, y_train, epochs=10, validation_data=(X_test_reshaped, y_test), verbose=2, callbacks=[early_stopping])\n",
        "\n"
      ],
      "metadata": {
        "colab": {
          "base_uri": "https://localhost:8080/"
        },
        "id": "_8eI7kSP-AlU",
        "outputId": "d9f9848a-3851-4039-b051-56d5175535db"
      },
      "execution_count": 15,
      "outputs": [
        {
          "output_type": "stream",
          "name": "stdout",
          "text": [
            "Epoch 1/10\n",
            "13/13 - 10s - loss: 0.0133 - val_loss: 0.0107 - 10s/epoch - 791ms/step\n",
            "Epoch 2/10\n",
            "13/13 - 0s - loss: 0.0093 - val_loss: 0.0061 - 145ms/epoch - 11ms/step\n",
            "Epoch 3/10\n",
            "13/13 - 0s - loss: 0.0044 - val_loss: 0.0026 - 143ms/epoch - 11ms/step\n",
            "Epoch 4/10\n",
            "13/13 - 0s - loss: 0.0022 - val_loss: 0.0020 - 155ms/epoch - 12ms/step\n",
            "Epoch 5/10\n",
            "13/13 - 0s - loss: 0.0016 - val_loss: 0.0015 - 143ms/epoch - 11ms/step\n",
            "Epoch 6/10\n",
            "13/13 - 0s - loss: 0.0014 - val_loss: 0.0013 - 136ms/epoch - 10ms/step\n",
            "Epoch 7/10\n",
            "13/13 - 0s - loss: 0.0012 - val_loss: 0.0011 - 135ms/epoch - 10ms/step\n",
            "Epoch 8/10\n",
            "13/13 - 0s - loss: 0.0011 - val_loss: 9.8780e-04 - 174ms/epoch - 13ms/step\n",
            "Epoch 9/10\n",
            "13/13 - 0s - loss: 0.0011 - val_loss: 9.2932e-04 - 204ms/epoch - 16ms/step\n",
            "Epoch 10/10\n",
            "13/13 - 0s - loss: 9.6137e-04 - val_loss: 8.8926e-04 - 210ms/epoch - 16ms/step\n"
          ]
        }
      ]
    },
    {
      "cell_type": "code",
      "source": [
        "mse = model.evaluate(X_test_reshaped, y_test, verbose=0)\n",
        "print(\"Mean Squared Error:\", mse)\n",
        "\n"
      ],
      "metadata": {
        "colab": {
          "base_uri": "https://localhost:8080/"
        },
        "id": "XB60F3ya-EmM",
        "outputId": "66f2542e-1ec8-4883-a39e-b06b040ab24f"
      },
      "execution_count": 16,
      "outputs": [
        {
          "output_type": "stream",
          "name": "stdout",
          "text": [
            "Mean Squared Error: 0.0008892563637346029\n"
          ]
        }
      ]
    },
    {
      "cell_type": "code",
      "source": [
        "pd.DataFrame(history.history).plot()"
      ],
      "metadata": {
        "colab": {
          "base_uri": "https://localhost:8080/",
          "height": 447
        },
        "id": "gv8iwkRh_uev",
        "outputId": "4a5c136a-9145-4f04-eb41-e8c8b46c1c08"
      },
      "execution_count": 18,
      "outputs": [
        {
          "output_type": "execute_result",
          "data": {
            "text/plain": [
              "<Axes: >"
            ]
          },
          "metadata": {},
          "execution_count": 18
        },
        {
          "output_type": "display_data",
          "data": {
            "text/plain": [
              "<Figure size 640x480 with 1 Axes>"
            ],
            "image/png": "[encoded data removed]"
          },
          "metadata": {}
        }
      ]
    },
    {
      "cell_type": "code",
      "source": [
        "import math\n",
        "\n",
        "y_pred = model.predict(X_test_reshaped)\n",
        "y_pred = np.squeeze(y_pred, axis=1)\n",
        "\n",
        "mae = mean_absolute_error(y_test, y_pred)\n",
        "r2 = r2_score(y_test, y_pred)\n",
        "rmse = math.sqrt(mse)\n",
        "print(\"root Mean Squared Error:\", rmse)\n",
        "print(\"Mean Squared Error:\", mse)\n",
        "print(\"Mean Absolute Error:\", mae)\n",
        "print(\"R-squared:\", r2)\n"
      ],
      "metadata": {
        "id": "5btM_ugJ2Hvt"
      },
      "execution_count": null,
      "outputs": []
    }
  ]
}